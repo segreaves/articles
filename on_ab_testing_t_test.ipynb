{
 "cells": [
  {
   "cell_type": "code",
   "execution_count": 24,
   "id": "53d27c92",
   "metadata": {},
   "outputs": [
    {
     "name": "stdout",
     "output_type": "stream",
     "text": [
      "Group A (Generic Message): 0.42857142857142855\n",
      "Group B (Personalized Message): 0.8461538461538461\n",
      "T-statistic: -2.40\n",
      "P-value: 0.0244\n"
     ]
    }
   ],
   "source": [
    "import scipy.stats as stats\n",
    "import numpy as np\n",
    "from numpy import mean\n",
    "\n",
    "# Simulated data (number of donations per person in one month)\n",
    "group_a = np.array([1, 1, 0, 0, 0, 1, 0, 0, 1, 0, 1, 1, 0, 0])  # Generic message\n",
    "group_b = np.array([1, 1, 1, 0, 1, 1, 1, 0, 1, 1, 1, 1, 1])  # Personalized message\n",
    "\n",
    "print(\"Group A (Generic Message):\", mean(group_a))\n",
    "print(\"Group B (Personalized Message):\", mean(group_b))\n",
    "\n",
    "# Perform independent T-test\n",
    "t_stat, p_value = stats.ttest_ind(group_a, group_b)\n",
    "\n",
    "print(f\"T-statistic: {t_stat:.2f}\")\n",
    "print(f\"P-value: {p_value:.4f}\")"
   ]
  },
  {
   "cell_type": "code",
   "execution_count": 29,
   "id": "de691b0b",
   "metadata": {},
   "outputs": [
    {
     "name": "stdout",
     "output_type": "stream",
     "text": [
      "T-statistic: 2.62\n",
      "P-value: 0.0279\n"
     ]
    }
   ],
   "source": [
    "# Wait times in minutes before and after system launch\n",
    "before = np.array([18, 19, 21, 17, 16, 19, 12, 11, 17, 18])\n",
    "after = np.array([10, 14, 12, 11, 19, 13, 15, 12, 14, 10])\n",
    "\n",
    "# Perform paired T-test\n",
    "t_stat, p_value = stats.ttest_rel(before, after)\n",
    "\n",
    "print(f\"T-statistic: {t_stat:.2f}\")\n",
    "print(f\"P-value: {p_value:.4f}\")"
   ]
  }
 ],
 "metadata": {
  "kernelspec": {
   "display_name": "base",
   "language": "python",
   "name": "python3"
  },
  "language_info": {
   "codemirror_mode": {
    "name": "ipython",
    "version": 3
   },
   "file_extension": ".py",
   "mimetype": "text/x-python",
   "name": "python",
   "nbconvert_exporter": "python",
   "pygments_lexer": "ipython3",
   "version": "3.12.4"
  }
 },
 "nbformat": 4,
 "nbformat_minor": 5
}
