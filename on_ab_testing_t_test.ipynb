{
 "cells": [
  {
   "cell_type": "code",
   "execution_count": 6,
   "id": "53d27c92",
   "metadata": {},
   "outputs": [
    {
     "name": "stdout",
     "output_type": "stream",
     "text": [
      "Group Base average ferritin level: 138.0\n",
      "Group High average ferritin level: 128.7\n",
      "T-statistic: 2.14\n",
      "P-value: 0.0462\n"
     ]
    }
   ],
   "source": [
    "import scipy.stats as stats\n",
    "import numpy as np\n",
    "\n",
    "# Simulated ferritin levels\n",
    "group_base = np.array([140, 145, 132, 155, 120, 135, 144, 145, 129, 135])\n",
    "group_high = np.array([125, 135, 130, 122, 117, 138, 136, 111, 137, 136])\n",
    "\n",
    "# Perform independent T-test\n",
    "t_stat, p_value = stats.ttest_ind(group_base, group_high)\n",
    "\n",
    "print(f\"Group Base average ferritin level: {np.mean(group_base)}\")\n",
    "print(f\"Group High average ferritin level: {np.mean(group_high)}\")\n",
    "\n",
    "print(f\"T-statistic: {t_stat:.2f}\")\n",
    "print(f\"P-value: {p_value:.4f}\")"
   ]
  },
  {
   "cell_type": "code",
   "execution_count": 8,
   "id": "de691b0b",
   "metadata": {},
   "outputs": [
    {
     "name": "stdout",
     "output_type": "stream",
     "text": [
      "Average wait time before launch: 16.8\n",
      "Average wait time after launch: 13.0\n",
      "T-statistic: 2.62\n",
      "P-value: 0.0279\n"
     ]
    }
   ],
   "source": [
    "# Wait times in minutes before and after system launch\n",
    "before = np.array([18, 19, 21, 17, 16, 19, 12, 11, 17, 18])\n",
    "after = np.array([10, 14, 12, 11, 19, 13, 15, 12, 14, 10])\n",
    "\n",
    "# Perform paired T-test\n",
    "t_stat, p_value = stats.ttest_rel(before, after)\n",
    "\n",
    "print(f\"Average wait time before launch: {np.mean(before)}\")\n",
    "print(f\"Average wait time after launch: {np.mean(after)}\")\n",
    "\n",
    "print(f\"T-statistic: {t_stat:.2f}\")\n",
    "print(f\"P-value: {p_value:.4f}\")"
   ]
  }
 ],
 "metadata": {
  "kernelspec": {
   "display_name": "base",
   "language": "python",
   "name": "python3"
  },
  "language_info": {
   "codemirror_mode": {
    "name": "ipython",
    "version": 3
   },
   "file_extension": ".py",
   "mimetype": "text/x-python",
   "name": "python",
   "nbconvert_exporter": "python",
   "pygments_lexer": "ipython3",
   "version": "3.12.4"
  }
 },
 "nbformat": 4,
 "nbformat_minor": 5
}
